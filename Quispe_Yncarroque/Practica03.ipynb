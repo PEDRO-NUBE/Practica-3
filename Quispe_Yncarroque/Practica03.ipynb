{
 "cells": [
  {
   "cell_type": "markdown",
   "id": "ad1023e6-e611-40e8-8b9e-b97513274f32",
   "metadata": {},
   "source": [
    "# 1. Introducción a Listas\n",
    "\n",
    "Lista: es una colección ordenada de valores. Los valores que componen una lista se llaman sus elementos, o sus artículos. Usaremos el término elemento o ítem para que signifique lo mismo. \n",
    "\n",
    "Las listas son similares a las cadenas de texto, que son colecciones ordenadas de caracteres, excepto que los elementos de una lista pueden ser de cualquier tipo."
   ]
  },
  {
   "cell_type": "code",
   "execution_count": null,
   "id": "e55c5cdc-1ae8-4c78-b45c-09f6d87361c8",
   "metadata": {},
   "outputs": [],
   "source": [
    "#Cadena de texto o String\n",
    "texto = \"Hola mundo Python\"\n",
    "#Accediendo al primer elemento de la Cadena de texto\n",
    "print(\"Primer caracter:\", texto[0])"
   ]
  },
  {
   "cell_type": "code",
   "execution_count": null,
   "id": "e52b3b8f-cf02-44c7-9baa-6731c26928ef",
   "metadata": {},
   "outputs": [],
   "source": [
    "#Cadena de texto o String\n",
    "texto = \"Hola mundo Python\"\n",
    "#Accediendo al primer elemento de la Cadena de texto\n",
    "print(\"Primer caracter:\", texto[0])"
   ]
  },
  {
   "cell_type": "code",
   "execution_count": null,
   "id": "0a4ae6f5-7c4a-4232-ab3b-bc5965f41557",
   "metadata": {},
   "outputs": [],
   "source": [
    "#lista se crea con \"[]\" y se separa con\",\"\n",
    "lista_mixta = [1, \"Python\", 3.14, True, [1, 2, 3]]\n",
    "print(\"Lista con diferentes tipos:\", lista_mixta)"
   ]
  },
  {
   "cell_type": "code",
   "execution_count": null,
   "id": "3979be36-8625-499b-a315-c31d43f80b04",
   "metadata": {},
   "outputs": [],
   "source": [
    "# Método split convierte una cadena a lista\n",
    "palabras = texto.split()\n",
    "print(\"Cadena convertida en lista:\", palabras)\n"
   ]
  },
  {
   "cell_type": "code",
   "execution_count": null,
   "id": "ad1147c3-8c37-450b-887a-c4d48bdce268",
   "metadata": {},
   "outputs": [],
   "source": [
    "# Comando if - Condicional Simple\n",
    "if \"Python\" in palabras:\n",
    "    print(\"La palabra 'Python' está en la lista.\")\n"
   ]
  },
  {
   "cell_type": "code",
   "execution_count": null,
   "id": "ffaa918d-3ee4-49c3-a6a8-178fd4bcbc3e",
   "metadata": {},
   "outputs": [],
   "source": [
    "# Comando if - else - Condicional\n",
    "if len(lista_mixta) > 5:\n",
    "    print(\"La lista tiene más de 5 elementos.\")\n",
    "else:\n",
    "    print(\"La lista tiene 5 o menos elementos.\")\n"
   ]
  },
  {
   "cell_type": "code",
   "execution_count": null,
   "id": "d7281509-8b9f-459e-a976-da861cb63ac8",
   "metadata": {},
   "outputs": [],
   "source": [
    "# Comando if - else - Condicional anidado\n",
    "if len(lista_mixta) > 5:\n",
    "    if \"Python\" in palabras:\n",
    "        print(\"Lista larga y contiene 'Python'.\")\n",
    "else:\n",
    "    print(\"Condición no cumplida.\")\n"
   ]
  }
 ],
 "metadata": {
  "kernelspec": {
   "display_name": "Python 3 (ipykernel)",
   "language": "python",
   "name": "python3"
  },
  "language_info": {
   "codemirror_mode": {
    "name": "ipython",
    "version": 3
   },
   "file_extension": ".py",
   "mimetype": "text/x-python",
   "name": "python",
   "nbconvert_exporter": "python",
   "pygments_lexer": "ipython3",
   "version": "3.12.7"
  }
 },
 "nbformat": 4,
 "nbformat_minor": 5
}
