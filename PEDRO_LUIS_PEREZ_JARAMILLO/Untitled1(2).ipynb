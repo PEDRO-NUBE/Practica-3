{
 "cells": [
  {
   "cell_type": "code",
   "execution_count": 9,
   "id": "38bb298e-5de8-4a34-992b-299885c381f6",
   "metadata": {},
   "outputs": [
    {
     "name": "stdout",
     "output_type": "stream",
     "text": [
      "la ultima letra del mensaje es o\n"
     ]
    }
   ],
   "source": [
    "a = \"Quien tenga miedo a morir que no nazxa, Emmanuel Gazmey Santiago\" #Cadena de texto o String\n",
    "print(\"la ultima letra del mensaje es\",a[-1])                          #Accediendo al primer elemento de la Cadena de texto"
   ]
  },
  {
   "cell_type": "code",
   "execution_count": 5,
   "id": "ae2d4b56-ba14-4525-8a63-e012b35fa576",
   "metadata": {
    "scrolled": true
   },
   "outputs": [
    {
     "name": "stdout",
     "output_type": "stream",
     "text": [
      "['Quien', 'tenga', 'miedo', 'a', 'morir', 'que', 'no', 'nazxa,', 'Emmanuel', 'Gazmey', 'Santiago']\n"
     ]
    }
   ],
   "source": [
    "lista_de_a = a.split()        #split convierte la cadena en lista\n",
    "print(lista_de_a)"
   ]
  },
  {
   "cell_type": "code",
   "execution_count": 31,
   "id": "86218a50-3dd1-4fd0-8e45-cb5bd3a0c4b8",
   "metadata": {},
   "outputs": [
    {
     "name": "stdout",
     "output_type": "stream",
     "text": [
      "('Jose', 'Alex', 'Manuel', 'Cesar', 'Alonso')\n"
     ]
    }
   ],
   "source": [
    "lista_de_nombres = (\"Jose\",\"Alex\",\"Manuel\",\"Cesar\",\"Alonso\")#lista se crea con \"[]\" y se separa con \",\"\n",
    "print(lista_de_nombres)"
   ]
  },
  {
   "cell_type": "code",
   "execution_count": 37,
   "id": "1953fd3a-ac0a-4462-b9d3-09eabb41a6bd",
   "metadata": {},
   "outputs": [
    {
     "name": "stdout",
     "output_type": "stream",
     "text": [
      "Los numeros ordenados [10, 20, 30, 40, 50]\n",
      "accediendo a los elementos de una lista\n",
      "('Jose', 'Alex', 'Manuel', 'Cesar', 'Alonso')\n",
      "primer elemnto de lista Jose\n",
      "ultimo elemnto de lista Alonso\n"
     ]
    }
   ],
   "source": [
    "#lista de secuencia ordenada de valores\n",
    "lista_de_numeros = [10,20,30,40,50]\n",
    "print(\"Los numeros ordenados\",lista_de_numeros)\n",
    "#accediendo a los elementos de una lista\n",
    "print(\"accediendo a los elementos de una lista\")\n",
    "print(lista_de_nombres)\n",
    "#accediendo al primer elemnto de una lista\n",
    "print(\"primer elemnto de lista\",lista_de_nombres[0])\n",
    "#accediendo al ultimo elemnto de una lista\n",
    "print(\"ultimo elemnto de lista\",lista_de_nombres[-1])\n",
    "\n"
   ]
  },
  {
   "cell_type": "code",
   "execution_count": 45,
   "id": "7fe4e60d-2862-4963-aaa9-95da3a498265",
   "metadata": {},
   "outputs": [
    {
     "name": "stdout",
     "output_type": "stream",
     "text": [
      "['iphone', 'sansung', 'huavei', 'motorola', 'xiomi']\n",
      "['iphone', 'samsug', 'huawei', 'motorola', 'xiomi']\n"
     ]
    }
   ],
   "source": [
    "#puedo cambiar cada elemento de la lista indicando posicion \n",
    "cel = [\"iphone\",\"sansung\",\"huavei\",\"motorola\",\"xiomi\"]\n",
    "print(cel)\n",
    "#las lista son mutables\n",
    "cel[1] = \"samsug\"\n",
    "cel[2] = \"huawei\"\n",
    "print(cel)\n"
   ]
  },
  {
   "cell_type": "code",
   "execution_count": 67,
   "id": "563ef22d-680d-427a-9eff-460654670aea",
   "metadata": {},
   "outputs": [
    {
     "name": "stdout",
     "output_type": "stream",
     "text": [
      "['iphone', 'samsung', 'huawei', 'motorola', 'xiomi', 'lg']\n",
      "['iphone', 'samsung', 'huawei', 'motorola', 'xiomi', 'lg', 'ZTE', 'moto']\n"
     ]
    }
   ],
   "source": [
    "#Utiliza el metodo append, adiciona al ultimo lugar\n",
    "cel = [\"iphone\",\"samsung\",\"huawei\",\"motorola\",\"xiomi\"]\n",
    "cel.append (\"lg\")\n",
    "print(cel)\n",
    "#sumamos 2 listas\n",
    "cel1 = [\"ZTE\",\"moto\"]\n",
    "b = cel + cel1\n",
    "print(b)"
   ]
  },
  {
   "cell_type": "code",
   "execution_count": 83,
   "id": "82e312d9-f166-4e9c-bbd3-e98a7b956a28",
   "metadata": {},
   "outputs": [
    {
     "name": "stdout",
     "output_type": "stream",
     "text": [
      "\n",
      "Lista Celulares Original\n",
      "['iphone', 'samsung', 'huawei', 'motorola', 'xiaomi', 'lg', 'zte', 'logic']\n",
      "\n",
      "Lista borrando el ultimo celular\n",
      "['iphone', 'samsung', 'huawei', 'motorola', 'xiaomi', 'lg', 'zte']\n",
      "\n",
      "Lista borrando celular Nuevamente\n",
      "['iphone', 'samsung', 'huawei', 'motorola', 'lg', 'zte']\n",
      "\n",
      "Equipo Celular Borrado\n",
      "xiaomi\n",
      "\n",
      "Lista borrando celular LG\n",
      "['iphone', 'samsung', 'huawei', 'motorola', 'zte']\n",
      "\n",
      "El celular LG es muy malo para mi\n"
     ]
    }
   ],
   "source": [
    "celulares = ['iphone', 'samsung', 'huawei', 'motorola', 'xiaomi', 'lg', 'zte', 'logic'] \n",
    "print(\"\\nLista Celulares Original\")\n",
    "print(celulares)\n",
    "#borramos 01 elemento con el comando \"del\" indicado posicion del elemento\n",
    "\n",
    "del celulares[-1]\n",
    "print(\"\\nLista borrando el ultimo celular\")\n",
    "print (celulares)\n",
    "\n",
    "#metodo \"pop\" borra posición \"4\" de la lista, se puede almacenar el valor \n",
    "b_celular = celulares.pop(4)\n",
    "print(\"\\nLista borrando celular Nuevamente\")\n",
    "print(celulares)\n",
    "print(\"\\nEquipo Celular Borrado\")\n",
    "print(b_celular)\n",
    "\n",
    "#metodo que borra el celular llamado \"lg\" \n",
    "c_celular = \"lg\"\n",
    "celulares.remove(c_celular)\n",
    "print(f\"\\nLista borrando celular {c_celular.upper()}\")\n",
    "print (celulares)\n",
    "print(f\"\\nEl celular {c_celular.upper()} es muy malo para mi\")"
   ]
  },
  {
   "cell_type": "code",
   "execution_count": 85,
   "id": "7f3714da-5671-4c04-880a-acf01e3e412f",
   "metadata": {},
   "outputs": [
    {
     "name": "stdout",
     "output_type": "stream",
     "text": [
      "\n",
      "Lista Original\n",
      "['mazda', 'audi', 'toyota', 'subaru', 'bmw', 'lamborghini']\n",
      "\n",
      "Lista Ordenada\n",
      "['audi', 'bmw', 'lamborghini', 'mazda', 'subaru', 'toyota']\n",
      "\n",
      "Lista Ordenada a la Inversa\n",
      "['toyota', 'subaru', 'mazda', 'lamborghini', 'bmw', 'audi']\n"
     ]
    }
   ],
   "source": [
    "autos =['mazda', 'audi', 'toyota', 'subaru', 'bmw', 'lamborghini'] \n",
    "print('\\nLista Original')\n",
    "print (autos)\n",
    "\n",
    "#utilizamos el metodo \"sort\" que hace el cambio de la lista\n",
    "print('\\nLista Ordenada')\n",
    "autos.sort()\n",
    "print (autos)\n",
    "\n",
    "#utilizamos el metodo \"reverse\" que hace el cambio de la lista\n",
    "print('\\nLista Ordenada a la Inversa') \n",
    "autos.reverse() \n",
    "print (autos)"
   ]
  },
  {
   "cell_type": "code",
   "execution_count": 91,
   "id": "abb8775f-22d9-4ddf-8a0c-6e7fe6cee374",
   "metadata": {},
   "outputs": [
    {
     "name": "stdout",
     "output_type": "stream",
     "text": [
      "\n",
      "Lista Original\n",
      "[200, 600, 10, 2000, -5, 50, 110, 1500]\n",
      "\n",
      "Lista Ordenada Temporal\n",
      "[-5, 10, 50, 110, 200, 600, 1500, 2000]\n",
      "\n",
      "Lista Original de nuevo\n",
      "[200, 600, 10, 2000, -5, 50, 110, 1500]\n"
     ]
    }
   ],
   "source": [
    "num = [200, 600, 10, 2000, -5, 50, 110, 1500] \n",
    "print('\\nLista Original')\n",
    "print(num)\n",
    "\n",
    "#utilizamos funcion \"sorted\" que hace el cambio de la lista temporal\n",
    "print('\\nLista Ordenada Temporal')\n",
    "print(sorted(num))\n",
    "print('\\nLista Original de nuevo') \n",
    "print(num)\n"
   ]
  },
  {
   "cell_type": "code",
   "execution_count": 101,
   "id": "e4dad868-09ec-4617-8f28-902cc3a680d6",
   "metadata": {},
   "outputs": [
    {
     "name": "stdout",
     "output_type": "stream",
     "text": [
      "cantidad de autos\n",
      "6\n",
      "n\n",
      "Cantidad de autos\n",
      "8\n"
     ]
    }
   ],
   "source": [
    "print(\"cantidad de autos\")\n",
    "print(len(autos))\n",
    "\n",
    "print(\"n\\nCantidad de autos\")\n",
    "print(len(num))"
   ]
  },
  {
   "cell_type": "code",
   "execution_count": 107,
   "id": "b37fc159-4bed-44ce-b0e3-9ee2edcd0ba3",
   "metadata": {},
   "outputs": [
    {
     "name": "stdout",
     "output_type": "stream",
     "text": [
      "100 es igual a 100 ==>> True\n"
     ]
    }
   ],
   "source": [
    "x = 100\n",
    "y = 100\n",
    "print(x, \"es igual a\" ,y, \"==>>\" ,x == y)"
   ]
  },
  {
   "cell_type": "code",
   "execution_count": 105,
   "id": "422bedb6-157d-4886-bd32-89831057939a",
   "metadata": {},
   "outputs": [
    {
     "name": "stdout",
     "output_type": "stream",
     "text": [
      "1 < 7 = True\n",
      "2 >= 9 = False\n",
      "10 == 10 True\n",
      "escuela == casa False\n",
      "python != java True\n"
     ]
    }
   ],
   "source": [
    "print(\"1 < 7 =\",1<7)\n",
    "print(\"2 >= 9 =\",2 >= 9)\n",
    "print(\"10 == 10\", 10 == 10)\n",
    "print(\"escuela == casa\", \"escuela\" == \"casa\")\n",
    "print(\"python != java\",\"python\" != \"java\") "
   ]
  },
  {
   "cell_type": "code",
   "execution_count": 115,
   "id": "accd5edc-106c-4b8e-a1bf-e8c0b60a2fb3",
   "metadata": {},
   "outputs": [
    {
     "name": "stdout",
     "output_type": "stream",
     "text": [
      "El numero 20 es valido\n",
      "El cuadrado del numero 20 es : 400\n"
     ]
    }
   ],
   "source": [
    "x = 20\n",
    "#Condicional simple\n",
    "if x > 0:\n",
    "    #solo ingresa a las sentencias si el número es POSITIVO\n",
    "    print (\"El numero\",x,\"es valido\")\n",
    "    print (\"El cuadrado del numero\",x,\"es :\", x*x)"
   ]
  },
  {
   "cell_type": "code",
   "execution_count": 119,
   "id": "e7d1d492-290c-4578-bb50-84ac2a9d206c",
   "metadata": {},
   "outputs": [
    {
     "name": "stdout",
     "output_type": "stream",
     "text": [
      "El numero MAYOR es:  45\n"
     ]
    }
   ],
   "source": [
    "#Inicializamos Variables\n",
    "n = 45\n",
    "m = 20\n",
    "#Condición para saber cual es mayor \n",
    "if n>m:\n",
    "    print(\"El numero MAYOR es: \",n)\n",
    "else:\n",
    "    print(\"El numero MAYOR es: \",m)"
   ]
  },
  {
   "cell_type": "code",
   "execution_count": 121,
   "id": "132cbc2c-19f8-457f-8a10-f084628d631c",
   "metadata": {},
   "outputs": [
    {
     "name": "stdin",
     "output_type": "stream",
     "text": [
      "Ingrese el primer Numero:  2\n",
      "Ingrese el segundo Numero:  3\n",
      "Ingrese el tercero Numero:  4\n"
     ]
    },
    {
     "name": "stdout",
     "output_type": "stream",
     "text": [
      "El numero MAYOR es:  4\n",
      "El numero MAYOR es: {} 4\n"
     ]
    }
   ],
   "source": [
    "#Ingresamos los números#\n",
    "a = int(input('Ingrese el primer Numero: ')) \n",
    "b = int(input('Ingrese el segundo Numero: ')) \n",
    "c = int(input('Ingrese el tercero Numero: '))\n",
    "#Con 03 Condiciones comparamos para hallar el número Mayor de los 3 numeros ingresados \n",
    "if a > b:\n",
    "    if a > c:\n",
    "        m = a\n",
    "    else:\n",
    "        m = c\n",
    "else:\n",
    "    if b > c:\n",
    "        m = b\n",
    "    else:\n",
    "        m = c\n",
    "print(\"El numero MAYOR es: \",m)\n",
    "print(\"El numero MAYOR es: {}\",format(m))"
   ]
  },
  {
   "cell_type": "code",
   "execution_count": 125,
   "id": "0b4711a7-93fa-4d0c-be56-d47f887f3438",
   "metadata": {},
   "outputs": [
    {
     "name": "stdin",
     "output_type": "stream",
     "text": [
      "Ingrese su Nombre : Pedro\n"
     ]
    },
    {
     "name": "stdout",
     "output_type": "stream",
     "text": [
      "Pedrocontienne la vocal e\n"
     ]
    }
   ],
   "source": [
    "nombre = input (\"Ingrese su Nombre :\")\n",
    "if 'a' in nombre:\n",
    "    print (nombre.title() + 'contienne la vocal a') \n",
    "elif 'e' in nombre:\n",
    "    print (nombre.title() + 'contienne la vocal e') \n",
    "elif \"i\" in nombre:\n",
    "    print (nombre.title() + 'contienne la vocal i') \n",
    "elif 'o' in nombre:\n",
    "    print (nombre.title() + 'contienne la vocal o') \n",
    "elif 'u' in nombre:\n",
    "    print (nombre.title() + 'contienne la vocal u')\n",
    "else:\n",
    "    print('¡Que nombre tan extraño!!!!!!')"
   ]
  },
  {
   "cell_type": "code",
   "execution_count": null,
   "id": "ae6a2ac1-ff4b-4ab5-a44c-d102dd3ff276",
   "metadata": {},
   "outputs": [],
   "source": []
  },
  {
   "cell_type": "code",
   "execution_count": null,
   "id": "f2528071-9a47-4100-bc80-f04940b28749",
   "metadata": {},
   "outputs": [],
   "source": []
  },
  {
   "cell_type": "code",
   "execution_count": 145,
   "id": "cfb32d21-02be-4671-89bd-67f4f3342c01",
   "metadata": {},
   "outputs": [
    {
     "name": "stdin",
     "output_type": "stream",
     "text": [
      "ingreseel dia de la semana viernes\n"
     ]
    },
    {
     "name": "stdout",
     "output_type": "stream",
     "text": [
      "desayuno de papaya\n"
     ]
    }
   ],
   "source": [
    "x = input(\"ingreseel dia de la semana\", )\n",
    "if x == \"lunes\":\n",
    "    print(\"desayuno de manzanas y peras\")\n",
    "elif x == \"martes\":\n",
    "    print(\"desayuno de jugo de leche,platano,fresa,leche\")\n",
    "elif x == \"miercoles\":\n",
    "    print(\"desayuno de yogurt y cereales\")\n",
    "else:\n",
    "    print(\"desayuno de papaya\")"
   ]
  },
  {
   "cell_type": "code",
   "execution_count": null,
   "id": "fd8f4a34-5edb-4592-a409-601c9ae7d653",
   "metadata": {},
   "outputs": [
    {
     "name": "stdin",
     "output_type": "stream",
     "text": [
      "Ingrese el número 1:  5\n",
      "Ingrese el número 2:  3\n",
      "Ingrese el número 3:  4\n",
      "Ingrese el número 4:  5\n",
      "Ingrese el número 5:  6\n",
      "Ingrese el número 6:  7\n",
      "Ingrese el número 7:  8\n",
      "Ingrese el número 8:  9\n",
      "Ingrese el número 9:  0\n",
      "Ingrese el número 10:  13\n",
      "Ingrese el número 11:  24\n",
      "Ingrese el número 12:  34\n"
     ]
    }
   ],
   "source": [
    "\n",
    "import statistics\n",
    "from collections import Counter\n",
    "numeros = []\n",
    "for i in range(20):\n",
    "    numero = float(input(\"Ingrese el número {}: \".format(i+1)))\n",
    "    numeros.append(numero)\n",
    "media = statistics.mean(numeros)\n",
    "print(\"La media es:\", media)\n",
    "mediana = statistics.median(numeros)\n",
    "print(\"La mediana es:\", mediana)\n",
    "conteo = Counter(numeros)\n",
    "frecuencia = conteo.most_common(1)[0][0]\n",
    "print(\"Su frecuencia es:\", frecuencia)"
   ]
  },
  {
   "cell_type": "code",
   "execution_count": null,
   "id": "e72b6501-846d-4869-8ea9-a6e8a84300d4",
   "metadata": {},
   "outputs": [],
   "source": [
    "\n"
   ]
  },
  {
   "cell_type": "code",
   "execution_count": null,
   "id": "d0ada487-455d-4ddf-969b-ad98ac72bee4",
   "metadata": {},
   "outputs": [],
   "source": []
  },
  {
   "cell_type": "code",
   "execution_count": null,
   "id": "731e5f48-5555-4546-8a87-3852f81bdee8",
   "metadata": {},
   "outputs": [],
   "source": []
  },
  {
   "cell_type": "code",
   "execution_count": null,
   "id": "3120242c-d97a-4b8b-97b5-b67cac888771",
   "metadata": {},
   "outputs": [],
   "source": []
  }
 ],
 "metadata": {
  "kernelspec": {
   "display_name": "Python 3 (ipykernel)",
   "language": "python",
   "name": "python3"
  },
  "language_info": {
   "codemirror_mode": {
    "name": "ipython",
    "version": 3
   },
   "file_extension": ".py",
   "mimetype": "text/x-python",
   "name": "python",
   "nbconvert_exporter": "python",
   "pygments_lexer": "ipython3",
   "version": "3.12.7"
  }
 },
 "nbformat": 4,
 "nbformat_minor": 5
}
